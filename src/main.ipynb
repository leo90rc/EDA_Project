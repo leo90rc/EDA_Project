{
 "metadata": {
  "language_info": {
   "codemirror_mode": {
    "name": "ipython",
    "version": 3
   },
   "file_extension": ".py",
   "mimetype": "text/x-python",
   "name": "python",
   "nbconvert_exporter": "python",
   "pygments_lexer": "ipython3",
   "version": "3.7.4"
  },
  "orig_nbformat": 2,
  "kernelspec": {
   "name": "python374jvsc74a57bd0a0947237fadc8b5561fed326db280cc5ec46a670c87cfb3a0489cf95ff262303",
   "display_name": "Python 3.7.4 64-bit"
  },
  "metadata": {
   "interpreter": {
    "hash": "a0947237fadc8b5561fed326db280cc5ec46a670c87cfb3a0489cf95ff262303"
   }
  }
 },
 "nbformat": 4,
 "nbformat_minor": 2,
 "cells": [
  {
   "source": [
    "# Tráfico y turistas: ¿Un cóctel explosivo?\n",
    "\n",
    "La ciudad de Barcelona se ubica entre uno de los destinos predilectos a la hora de hacer turismo en España. Sumado a esto, suele tratarse además de uno de los sitios preferidos a la hora de emigrar, influyendo en esta decisión factores como ser el idioma, la ubicación geográfica, la cultura y la facilidad a la hora de insertarse en la sociedad, entre otros.\n",
    "\n",
    "A pesar de contar con medios de transporte públicos muy efectivos (metros, ferrocarriles, teleféricos, entre otros) que luchan por apaciguar el gran caudal de personas que se desplazan de un lado a otro, es cierto que muchos continúan eligiendo su transporte personal  para transitar por la ciudad.\n",
    "\n",
    "A lo largo del año, pero principalmente en los meses en los que el clima más acompaña, Barcelona recibe un abultado número de turistas que se aprovechan de su geografía para disfrutar de unas vacaciones inolvidables. De esta manera, al llegar los meses de temporada alta, se puede notar que el volumen de personas aumenta por encima de lo habitual en las zonas mayor atractivo turístico.\n",
    "\n",
    "Se intenta evaluar qué influencia tiene esta muchedumbre en la cantidad de accidentes de tráfico que se registran en la ciudad, teniendo en cuenta que, al momento de trasladarse, los turistas tienen, entre las tantas opciones, la posibilidad de elegir transportes particulares para movilizarse, como ser vehículos, ciclomotores o bicicletas de alquiler, sin descartar que los peatones también son una fuente generadora de siniestros, más aun si desconocen la ciudad.\n",
    "\n",
    "Para realizar foco sobre un objeto de estudio, se plantea la siguiente hipótesis:\n",
    "\n",
    "### Durante los meses de temporada alta (Julio, Agosto y Septiembre), se registran mayor cantidad de accidentes de tráfico en las zonas más turísticamente concurridas de la ciudad de Barcelona."
   ],
   "cell_type": "markdown",
   "metadata": {}
  },
  {
   "cell_type": "code",
   "execution_count": null,
   "metadata": {},
   "outputs": [],
   "source": [
    "import pandas as pd\n",
    "import os\n",
    "import sys\n",
    "import utils.folders_tb as fo\n",
    "import utils.mining_data_tb as mi\n",
    "import seaborn as sns\n",
    "import matplotlib.pyplot as plt\n",
    "import numpy as np\n",
    "%matplotlib inline"
   ]
  },
  {
   "source": [
    "## Data Wrangling\n",
    "\n",
    "En el afán de demostrar la hipótesis planteada, se comienza a realizar el tratamiento de los datos recopilados para poder trabajar con ellos posteriormente. Para esto, se crean las correspondientes listas de dataframes, con los datasets de cada año (desde el 2010 hasta el 2020)."
   ],
   "cell_type": "markdown",
   "metadata": {}
  },
  {
   "cell_type": "code",
   "execution_count": null,
   "metadata": {},
   "outputs": [],
   "source": [
    "lista_df_gu = fo.enlistar_dataframes('_ACCIDENTS_GU_BCN_')"
   ]
  },
  {
   "source": [
    "Al tratarse de diferentes conjuntos de datos (uno para cada año), es probable que el formato utilizado para recopilar la información haya sufrido algunas modificaciones que deberían subsanarse.\n",
    "\n",
    "Se comparan las columnas de los dataframes de cada año para verificarlo."
   ],
   "cell_type": "markdown",
   "metadata": {}
  },
  {
   "cell_type": "code",
   "execution_count": null,
   "metadata": {},
   "outputs": [],
   "source": [
    "mi.comparar_columnas(lista_df_gu)"
   ]
  },
  {
   "cell_type": "code",
   "execution_count": null,
   "metadata": {},
   "outputs": [],
   "source": [
    "mi.nombre_cada_columna(lista_df_gu)"
   ]
  },
  {
   "source": [
    "Se realiza un análisis de cuáles serían los datos de interés para definir los oportunos a la hora de llevar adelante el estudio.\n",
    "\n",
    "Se define así, que las columnas que formarán parte del nuevo conjunto de datos serán:\n",
    "- Número de expediente\n",
    "- Nombre de distrito\n",
    "- Nombre de barrio\n",
    "- Nombre de calle\n",
    "- Día de la semana\n",
    "- Año\n",
    "- Mes\n",
    "- Día\n",
    "- Hora\n",
    "- Turno\n",
    "- Número de víctimas\n",
    "- Número de lesionados leves\n",
    "- Número de lesionados graves\n",
    "- Número de muertos\n"
   ],
   "cell_type": "markdown",
   "metadata": {}
  },
  {
   "cell_type": "code",
   "execution_count": null,
   "metadata": {},
   "outputs": [],
   "source": [
    "df_accidentes = mi.crear_df_gu(lista_df_gu)"
   ]
  },
  {
   "cell_type": "code",
   "execution_count": null,
   "metadata": {},
   "outputs": [],
   "source": [
    "df_accidentes"
   ]
  },
  {
   "source": [
    "Se realizan algunas búsquedas para diferentes números de expediente como método de verificación."
   ],
   "cell_type": "markdown",
   "metadata": {}
  },
  {
   "cell_type": "code",
   "execution_count": null,
   "metadata": {},
   "outputs": [],
   "source": [
    "df_accidentes.iloc[400,:]"
   ]
  },
  {
   "cell_type": "code",
   "execution_count": null,
   "metadata": {},
   "outputs": [],
   "source": [
    "df_accidentes[df_accidentes['NUMERO EXPEDIENTE'] == '2010S004517']"
   ]
  },
  {
   "source": [
    "---"
   ],
   "cell_type": "markdown",
   "metadata": {}
  },
  {
   "cell_type": "code",
   "execution_count": null,
   "metadata": {},
   "outputs": [],
   "source": [
    "df_accidentes.iloc[8000,:]"
   ]
  },
  {
   "cell_type": "code",
   "execution_count": null,
   "metadata": {},
   "outputs": [],
   "source": [
    "df_accidentes[df_accidentes['NUMERO EXPEDIENTE'] == '2010S008942']"
   ]
  },
  {
   "source": [
    "---"
   ],
   "cell_type": "markdown",
   "metadata": {}
  },
  {
   "cell_type": "code",
   "execution_count": null,
   "metadata": {},
   "outputs": [],
   "source": [
    "df_accidentes.iloc[38000,:]"
   ]
  },
  {
   "cell_type": "code",
   "execution_count": null,
   "metadata": {},
   "outputs": [],
   "source": [
    "df_accidentes[df_accidentes['NUMERO EXPEDIENTE'] == '2014S002077']"
   ]
  },
  {
   "source": [
    "---"
   ],
   "cell_type": "markdown",
   "metadata": {}
  },
  {
   "cell_type": "code",
   "execution_count": null,
   "metadata": {},
   "outputs": [],
   "source": [
    "df_accidentes.iloc[88000,:]"
   ]
  },
  {
   "cell_type": "code",
   "execution_count": null,
   "metadata": {},
   "outputs": [],
   "source": [
    "df_accidentes.iloc[88000,:]['NUMERO EXPEDIENTE']"
   ]
  },
  {
   "cell_type": "code",
   "execution_count": null,
   "metadata": {},
   "outputs": [],
   "source": [
    "df_accidentes.iloc[88000,:]['CALLE']"
   ]
  },
  {
   "cell_type": "code",
   "execution_count": null,
   "metadata": {},
   "outputs": [],
   "source": [
    "df_accidentes[df_accidentes['NUMERO EXPEDIENTE'] == '2019S001301    ']"
   ]
  },
  {
   "source": [
    "---"
   ],
   "cell_type": "markdown",
   "metadata": {}
  },
  {
   "cell_type": "code",
   "execution_count": null,
   "metadata": {},
   "outputs": [],
   "source": [
    "df_accidentes.iloc[100000,:]"
   ]
  },
  {
   "cell_type": "code",
   "execution_count": null,
   "metadata": {},
   "outputs": [],
   "source": [
    "df_accidentes[df_accidentes['NUMERO EXPEDIENTE'] == '2020S003281    ']"
   ]
  },
  {
   "source": [
    "Se observa un inconveniente. Aparentemente, para los últimos años, se han agregado espacios en blanco al final de algunos strings. Se procede a corregir este obstáculo para contar con datos unificados."
   ],
   "cell_type": "markdown",
   "metadata": {}
  },
  {
   "cell_type": "code",
   "execution_count": null,
   "metadata": {},
   "outputs": [],
   "source": [
    "mi.quitar_espacios(df_accidentes)"
   ]
  },
  {
   "source": [
    "Ahora se puede ver cómo los strings no cuentan con espacios en blanco ni al inicio ni al final."
   ],
   "cell_type": "markdown",
   "metadata": {}
  },
  {
   "cell_type": "code",
   "execution_count": null,
   "metadata": {},
   "outputs": [],
   "source": [
    "df_accidentes.iloc[88000,:]"
   ]
  },
  {
   "cell_type": "code",
   "execution_count": null,
   "metadata": {},
   "outputs": [],
   "source": [
    "df_accidentes.iloc[100000,:]"
   ]
  },
  {
   "source": [
    "## Data Cleaning\n",
    "\n",
    "Continuando con la limpieza de los datos para su posterior visualización, se desea verificar la presencia de datos duplicados, para que los mismos no generen resultados alterados indebidos."
   ],
   "cell_type": "markdown",
   "metadata": {}
  },
  {
   "cell_type": "code",
   "execution_count": null,
   "metadata": {},
   "outputs": [],
   "source": [
    "print('Dimensiones de df_accidentes:  Filas --> ' + str(df_accidentes.shape[0]) + '  Columnas --> ' + str(df_accidentes.shape[1]) + '\\n')\n",
    "print('Cantidad de números de expediente duplicados en df_accidentes:' , df_accidentes['NUMERO EXPEDIENTE'].duplicated().sum(), '\\n')\n",
    "print('Cantidad de filas duplicadas de df_accidentes:' , df_accidentes.duplicated().sum())\n"
   ]
  },
  {
   "source": [
    "Como se puede observar, el dataframe cuenta con 102996 filas, de las cuales hay 21 que tienen exactamente los mismos datos. Éstas filas generarían una desviación en el análisis, por lo que deben ser removidas."
   ],
   "cell_type": "markdown",
   "metadata": {}
  },
  {
   "cell_type": "code",
   "execution_count": null,
   "metadata": {},
   "outputs": [],
   "source": [
    "df_accidentes.drop_duplicates(inplace = True, ignore_index= True)"
   ]
  },
  {
   "cell_type": "code",
   "execution_count": null,
   "metadata": {},
   "outputs": [],
   "source": [
    "print('Dimensiones de df_accidentes:  Filas --> ' + str(df_accidentes.shape[0]) + '  Columnas --> ' + str(df_accidentes.shape[1]) + '\\n')\n",
    "print('Cantidad de números de expediente duplicados en df_accidentes:' , df_accidentes['NUMERO EXPEDIENTE'].duplicated().sum(), '\\n')\n",
    "print('Cantidad de filas duplicadas de df_accidentes:' , df_accidentes.duplicated().sum())"
   ]
  },
  {
   "source": [
    "Una vez eliminados los datos duplicados, se realiza un análisis de los datos faltantes para definir qué se hará con ellos."
   ],
   "cell_type": "markdown",
   "metadata": {}
  },
  {
   "cell_type": "code",
   "execution_count": null,
   "metadata": {},
   "outputs": [],
   "source": [
    "df_accidentes.isnull().sum()"
   ]
  },
  {
   "source": [
    "Si se evalúan los datos faltantes de la columna \"CALLE\", se puede observar lo siguiente:"
   ],
   "cell_type": "markdown",
   "metadata": {}
  },
  {
   "cell_type": "code",
   "execution_count": null,
   "metadata": {},
   "outputs": [],
   "source": [
    "df_accidentes[df_accidentes['CALLE'].isna()]"
   ]
  },
  {
   "source": [
    "De los 2 datos faltantes de la columna \"CALLE\", uno corresponde a una serie de valores anómalos que no aportan valor a la investigación y deben ser eliminados. Paralelamente, el otro, representa un accidente al cual, efectivamente, no se le ha ingresado ningún nombre de calle. Dicho valor nulo no genera mayores inconvenientes para el análisis, por lo que puede permanecer en el dataframe para no perder el dato del accidente."
   ],
   "cell_type": "markdown",
   "metadata": {}
  },
  {
   "cell_type": "code",
   "execution_count": null,
   "metadata": {},
   "outputs": [],
   "source": [
    "df_accidentes.drop(df_accidentes.index[56285], inplace= True)"
   ]
  },
  {
   "cell_type": "code",
   "execution_count": null,
   "metadata": {},
   "outputs": [],
   "source": [
    "df_accidentes.reset_index(drop=True, inplace= True)\n",
    "df_accidentes"
   ]
  },
  {
   "cell_type": "code",
   "execution_count": null,
   "metadata": {},
   "outputs": [],
   "source": [
    "df_accidentes[df_accidentes['CALLE'].isna()]"
   ]
  },
  {
   "cell_type": "code",
   "execution_count": null,
   "metadata": {},
   "outputs": [],
   "source": [
    "df_accidentes.nunique()"
   ]
  },
  {
   "source": [
    "Aquí se puede apreciar que, al menos, los valores cualitativos son congruentes. Esto significa, que los mismos cuentan con tantos valores únicos como serían los esperados. Por ejemplo, 31 valores únicos para los días del mes, 7 para los días de la semana, o bien 3 para los turnos de un día."
   ],
   "cell_type": "markdown",
   "metadata": {}
  },
  {
   "cell_type": "code",
   "execution_count": null,
   "metadata": {},
   "outputs": [],
   "source": [
    "df_accidentes['DISTRITO'].unique()"
   ]
  },
  {
   "source": [
    "Para el caso de los distritos, se observa un valor \"desconocido\". Teniendo en cuenta el propósito del estudio, ese valor no es una buena señal, y sería conveniente cuantificarlo. Ésta situación podría presentarse en otras columnas, por lo que se hará una investigación."
   ],
   "cell_type": "markdown",
   "metadata": {}
  },
  {
   "cell_type": "code",
   "execution_count": null,
   "metadata": {},
   "outputs": [],
   "source": [
    "df_accidentes[df_accidentes['DISTRITO'] == 'Desconegut']"
   ]
  },
  {
   "cell_type": "code",
   "execution_count": null,
   "metadata": {},
   "outputs": [],
   "source": [
    "df_accidentes[df_accidentes['BARRIO'] == 'Desconegut']"
   ]
  },
  {
   "cell_type": "code",
   "execution_count": null,
   "metadata": {},
   "outputs": [],
   "source": [
    "df_accidentes[df_accidentes['CALLE'] == 'Desconegut']"
   ]
  },
  {
   "source": [
    "La estrategia que se sigue en esta situación, es la de reemplazar los valores perdidos ``\"Desconegut\"`` por valores NaN. De esta manera, nuestros datos relacionados con las columnas restantes (cuyo valor es conocido), será tenida en cuenta en el análisis exploratorio, mientras que el valor ``\"Desconegut\"`` no será tomado como un dato, ya sea de ``distrito``, ``barrio`` o ``calle``."
   ],
   "cell_type": "markdown",
   "metadata": {}
  },
  {
   "cell_type": "code",
   "execution_count": null,
   "metadata": {},
   "outputs": [],
   "source": [
    "df_accidentes.replace('Desconegut', np.nan, inplace = True)"
   ]
  },
  {
   "cell_type": "code",
   "execution_count": null,
   "metadata": {},
   "outputs": [],
   "source": [
    "df_accidentes[df_accidentes['DISTRITO'] == 'Desconegut']"
   ]
  },
  {
   "cell_type": "code",
   "execution_count": null,
   "metadata": {},
   "outputs": [],
   "source": [
    "df_accidentes[df_accidentes['BARRIO'] == 'Desconegut']"
   ]
  },
  {
   "cell_type": "code",
   "execution_count": null,
   "metadata": {},
   "outputs": [],
   "source": [
    "df_accidentes[df_accidentes['CALLE'] == 'Desconegut']"
   ]
  },
  {
   "source": [
    "Ahora, se debe tener en cuenta cuál es el tipo de valor de cada una de las columnas."
   ],
   "cell_type": "markdown",
   "metadata": {}
  },
  {
   "cell_type": "code",
   "execution_count": null,
   "metadata": {},
   "outputs": [],
   "source": [
    "df_accidentes.info()"
   ]
  },
  {
   "source": [
    "La presencia de valores NaN en las columnas numéricas ha generado que, los números presentes en el dataframe, que se esperaría sean del tipo \"int\", figuren como \"float64\". Esto se puede remediar de la siguiente manera:"
   ],
   "cell_type": "markdown",
   "metadata": {}
  },
  {
   "cell_type": "code",
   "execution_count": null,
   "metadata": {},
   "outputs": [],
   "source": [
    "df_accidentes = df_accidentes.astype({\"ANO\": int, \"DIA\": int, \"HORA\": int, \"NUMERO VICTIMAS\": int, \"VICTIMAS LEVES\": int, \"VICTIMAS GRAVES\": int, \"VICTIMAS FALLECIDAS\": int})"
   ]
  },
  {
   "cell_type": "code",
   "execution_count": null,
   "metadata": {},
   "outputs": [],
   "source": [
    "df_accidentes.info()"
   ]
  },
  {
   "cell_type": "code",
   "execution_count": null,
   "metadata": {},
   "outputs": [],
   "source": [
    "df_accidentes"
   ]
  },
  {
   "source": [
    "Otro inconveniente que se puede observar en el dataframe, pensando ya en el momento de la presentación del mismo, es el idioma. Teniendo en cuenta que el proyecto se expondrá ante un público que posiblemente no domine perfectamente la lengua catalana, no estaría demás realizar la conversión al castellano. Para esto, es adecuado centrarse en las columnas que contienen datos a traducir. Estas son:\n",
    "- Día de la semana\n",
    "- Mes\n",
    "- Turno"
   ],
   "cell_type": "markdown",
   "metadata": {}
  },
  {
   "cell_type": "code",
   "execution_count": null,
   "metadata": {},
   "outputs": [],
   "source": [
    "df_accidentes['DIA SEMANA'].unique()"
   ]
  },
  {
   "cell_type": "code",
   "execution_count": null,
   "metadata": {},
   "outputs": [],
   "source": [
    "df_accidentes['MES'].unique()"
   ]
  },
  {
   "cell_type": "code",
   "execution_count": null,
   "metadata": {},
   "outputs": [],
   "source": [
    "df_accidentes['TURNO'].unique()"
   ]
  },
  {
   "cell_type": "code",
   "execution_count": null,
   "metadata": {},
   "outputs": [],
   "source": [
    "mi.translate(df_accidentes)"
   ]
  },
  {
   "cell_type": "code",
   "execution_count": null,
   "metadata": {},
   "outputs": [],
   "source": [
    "df_accidentes"
   ]
  },
  {
   "source": [
    "Una vez finalizado el Data Cleaning de nuestro conjunto de datos, es recomendable guardar el dataframe obtenido en un fichero .csv en la dirección data/DATA_POST_CLEANING para su rápida lectura y manipulación. Se logra mediante la ejecución de la siguiente función:"
   ],
   "cell_type": "markdown",
   "metadata": {}
  },
  {
   "cell_type": "code",
   "execution_count": null,
   "metadata": {},
   "outputs": [],
   "source": [
    "fo.df_to_csv_post_cleaning(df_accidentes, 'accidentes.csv')"
   ]
  },
  {
   "source": [
    "A partir de ahora, se puede realizar la lectura del archivo obtenido luego de hacer el Data Cleaning de la siguiente manera:"
   ],
   "cell_type": "markdown",
   "metadata": {}
  },
  {
   "cell_type": "code",
   "execution_count": null,
   "metadata": {},
   "outputs": [],
   "source": [
    "accidentes = fo.leer_csv_post_cleaning('accidentes.csv')"
   ]
  },
  {
   "source": [
    "# Análisis Exploratorio de Datos\n",
    "\n",
    "Ya se tienen a disposición todos los datos limpios y preparados para comenzar a analizarlos. La visualización de los mismos mediante gráficas es una gran metodología para evalarlos y obtener conclusiones.\n",
    "\n",
    "En una primera instancia, se intenta determinar cuáles son los distritos en los que los accidentes ocurren con mayor frecuencia."
   ],
   "cell_type": "markdown",
   "metadata": {}
  },
  {
   "cell_type": "code",
   "execution_count": null,
   "metadata": {},
   "outputs": [],
   "source": [
    "plt.figure(figsize=(17,5))\n",
    "sns.countplot(accidentes['DISTRITO'], order= accidentes['DISTRITO'].value_counts().index)\n",
    "plt.ylabel('Cantidad de accidentes')\n",
    "plt.xlabel('Distrito')\n",
    "plt.title('Distritos con más accidentes de Barcelona')\n",
    "plt.savefig(\"../reports/plots/accidentes_x_distrito.png\")"
   ]
  },
  {
   "source": [
    "Se puede ver que para todos los registros disponibles, el distrito de Eixample es el que contabiliza, con creces, el mayor número de accidentes.\n",
    "\n",
    "Si se realiza un análisis más exhaustivo, pensando ahora en cuáles son los barrios con más cantidad de accidentes entre los años 2010 y 2020. Se obtiene lo siguiente.\n",
    "\n"
   ],
   "cell_type": "markdown",
   "metadata": {}
  },
  {
   "cell_type": "code",
   "execution_count": null,
   "metadata": {},
   "outputs": [],
   "source": [
    "plt.figure(figsize=(20,10))\n",
    "sns.countplot(accidentes['BARRIO'], order= accidentes['BARRIO'].value_counts().index[0:10])\n",
    "plt.xticks(rotation = 90)\n",
    "plt.ylabel('Cantidad de accidentes')\n",
    "plt.xlabel('Barrios con más accidentes')\n",
    "plt.title('Barrios con más accidentes de Barcelona')\n",
    "plt.savefig(\"../reports/plots/10_barrios_mas_accidentes.png\")"
   ]
  },
  {
   "source": [
    "Y si ahora se quisiera saber cuáles son las calles que pueden considerarse más peligrosas a la hora de circular:"
   ],
   "cell_type": "markdown",
   "metadata": {}
  },
  {
   "cell_type": "code",
   "execution_count": null,
   "metadata": {},
   "outputs": [],
   "source": [
    "plt.figure(figsize=(20,10))\n",
    "sns.countplot(accidentes['CALLE'], order= accidentes['CALLE'].value_counts().index[0:15])\n",
    "plt.xticks(rotation = 90)\n",
    "plt.ylabel('Cantidad de accidentes')\n",
    "plt.xlabel('Barrios con más accidentes')\n",
    "plt.title('Barrios con más accidentes de Barcelona')\n",
    "plt.savefig(\"../reports/plots/10_calles_mas_accidentes.png\")"
   ]
  },
  {
   "source": [
    "Como es de esperarse, el resultado devela que las calles donde más accidentes se han contabilizado son arterias principales o rondas, donde el caudal vehicular es más elevado.\n",
    "\n",
    "A su vez, para nuestro objeto de estudio, será necesario cuantificar los accidentes en los barrios considerados más turísticos de la ciudad, obteniendo los siguientes resultados."
   ],
   "cell_type": "markdown",
   "metadata": {}
  },
  {
   "cell_type": "code",
   "execution_count": null,
   "metadata": {},
   "outputs": [],
   "source": [
    "barrios_turisticos = accidentes[(accidentes['BARRIO'] == 'el Barri Gòtic')|(accidentes['BARRIO'] == 'la Barceloneta')|(accidentes['BARRIO'] == 'el Poble Sec')|(accidentes['BARRIO'] == 'el Poblenou')|(accidentes['BARRIO'] == 'Sant Pere, Santa Caterina i la Ribera')|(accidentes['BARRIO'] == 'la Sagrada Família')|(accidentes['BARRIO'] == 'la Nova Esquerra de l\\'Eixample')|(accidentes['BARRIO'] == 'el Fort Pienc')|(accidentes['BARRIO'] == \"l'Antiga Esquerra de l'Eixample\")|(accidentes['BARRIO'] == 'la Dreta de l\\'Eixample')|(accidentes['BARRIO'] == 'Sant Antoni')|(accidentes['BARRIO'] == 'la Vila de Gràcia')]\n",
    "\n",
    "\n",
    "plt.figure(figsize=(20,10))\n",
    "sns.countplot(barrios_turisticos['BARRIO'], order= barrios_turisticos['BARRIO'].value_counts().index)\n",
    "plt.xticks(rotation = 90)\n",
    "plt.ylabel('Cantidad de accidentes')\n",
    "plt.xlabel('Barrios más turísticos de la ciudad')\n",
    "plt.title('Accidentes registrados en los barrios más turísticos')\n",
    "plt.savefig(\"../reports/plots/accidentes_12_barrios_mas_turisticos.png\")"
   ]
  },
  {
   "source": [
    "Aquí se puede visualizar que la Dreta de l\\'Eixample reporta casi el doble de accidentes que los registrados en el barrio que ocupa el segundo puesto.\n",
    "\n",
    "Por otro lado, se nota la presencia de barrios que no llegan a los 2000 accidentes contabilizados durante 11 años (2010 a 2020 inclusive). Para entender un poco más esto, se debe tener una idea de la morfología de cada barrio. No está demás aclarar que los barrios pertenecientes al distrito de l'Eixample (los primeros 6 en orden de aparición), cuentan con un caudal de tráfico muy elevado y con arterias principales de desplazamiento, mientras que los últimos tienen un tránsito más bien restringido, con muchas calles de carril único y muchas otras, peatonales.\n",
    "\n",
    "Teniendo en cuenta ahora lo que es realmente relevante para el objeto de estudio, surge la necesidad de representar los accidentes registrados en los barrios más turísticos, pero ``basándose en el mes de ocurrencia`` de los mismos. A continuación se muestran las gráficas para cada caso, en las cuales se analizarán los meses de Julio, Agosto y Septiembre.\n",
    "\n",
    "La línea negra vertical en cada una de las siguientes gráficas representa el valor medio de cantidad de accidentes por mes para el barrio en cuestión."
   ],
   "cell_type": "markdown",
   "metadata": {}
  },
  {
   "cell_type": "code",
   "execution_count": null,
   "metadata": {},
   "outputs": [],
   "source": [
    "meses = {'Enero': 1, 'Febrero': 2, 'Marzo': 3, 'Abril': 4, 'Mayo': 5, 'Junio': 6, 'Julio': 7, 'Agosto': 8, 'Septiembre': 9, 'Octubre': 10, 'Noviembre': 11, 'Diciembre': 12}"
   ]
  },
  {
   "source": [
    "## el Barri Gòtic"
   ],
   "cell_type": "markdown",
   "metadata": {}
  },
  {
   "cell_type": "code",
   "execution_count": null,
   "metadata": {},
   "outputs": [],
   "source": [
    "gotic = accidentes[accidentes['BARRIO'] == 'el Barri Gòtic']\n",
    "gotic.replace(meses, inplace= True)\n",
    "gotic.sort_values(by='MES', inplace= True)\n",
    "sns.set(rc={\"figure.figsize\":(15,13)});\n",
    "\n",
    "ax = sns.countplot(y = \"BARRIO\", hue = \"MES\", data = gotic);\n",
    "for p in ax.patches:\n",
    "    if p == ax.patches[6]:\n",
    "        p.set_facecolor('red')\n",
    "    elif p == ax.patches[7]:\n",
    "        p.set_facecolor('yellow')\n",
    "    elif p == ax.patches[8]:\n",
    "        p.set_facecolor('blue')\n",
    "    else:\n",
    "        p.set_facecolor('grey')\n",
    "\n",
    "sns.set_style(\"whitegrid\");\n",
    "plt.title(\"Accidentes en el Poblenou por mes\");\n",
    "plt.ylabel(\"Barrios turísticos\");\n",
    "plt.yticks(rotation = 90);\n",
    "plt.xlabel(\"Cantidad de accidentes\");\n",
    "plt.legend(meses);\n",
    "plt.axvline(x=gotic.groupby('MES').count().mean()[0], linewidth=3, color='black', label=\"mean\");\n",
    "plt.savefig(\"../reports/plots/gotic_x_mes.png\");"
   ]
  },
  {
   "source": [
    "Julio --> Cantidad por encima de la media.\n",
    "\n",
    "Agosto --> La menor cantidad de accidentes junto con el mes de Enero.\n",
    "\n",
    "Septiembre --> Cantidad media de accidentes."
   ],
   "cell_type": "markdown",
   "metadata": {}
  },
  {
   "source": [
    "## La Barceloneta"
   ],
   "cell_type": "markdown",
   "metadata": {}
  },
  {
   "cell_type": "code",
   "execution_count": null,
   "metadata": {},
   "outputs": [],
   "source": [
    "barceloneta = accidentes[accidentes['BARRIO'] == 'la Barceloneta']\n",
    "barceloneta.replace(meses, inplace= True)\n",
    "barceloneta.sort_values(by='MES', inplace= True)\n",
    "sns.set(rc={\"figure.figsize\":(15,13)});\n",
    "\n",
    "ax = sns.countplot(y = \"BARRIO\", hue = \"MES\", data = barceloneta);\n",
    "for p in ax.patches:\n",
    "    if p == ax.patches[6]:\n",
    "        p.set_facecolor('red')\n",
    "    elif p == ax.patches[7]:\n",
    "        p.set_facecolor('yellow')\n",
    "    elif p == ax.patches[8]:\n",
    "        p.set_facecolor('blue')\n",
    "    else:\n",
    "        p.set_facecolor('grey')\n",
    "\n",
    "sns.set_style(\"whitegrid\");\n",
    "plt.title(\"Accidentes en la Barceloneta por mes\");\n",
    "plt.ylabel(\"Barrios turísticos\");\n",
    "plt.yticks(rotation = 90);\n",
    "plt.xlabel(\"Cantidad de accidentes\");\n",
    "plt.legend(meses);\n",
    "plt.axvline(x=barceloneta.groupby('MES').count().mean()[0], linewidth=3, color='black', label=\"mean\");\n",
    "plt.savefig(\"../reports/plots/barceloneta_x_mes.png\");"
   ]
  },
  {
   "source": [
    "Julio --> Uno de los meses con mayor cantidad de accidentes registrados.\n",
    "\n",
    "Agosto --> Cantidad elevada de accidentes.\n",
    "\n",
    "Septiembre --> Cantidad media de accidentes.\n",
    "\n",
    "Se debe tener en cuenta que el barrio de La Barcelonata cuenta con una de las playas más concurridas por los turistas."
   ],
   "cell_type": "markdown",
   "metadata": {}
  },
  {
   "source": [
    "## El Poble Sec"
   ],
   "cell_type": "markdown",
   "metadata": {}
  },
  {
   "cell_type": "code",
   "execution_count": null,
   "metadata": {},
   "outputs": [],
   "source": [
    "poble_sec = accidentes[accidentes['BARRIO'] == 'el Poble Sec']\n",
    "poble_sec.replace(meses, inplace= True)\n",
    "poble_sec.sort_values(by='MES', inplace= True)\n",
    "sns.set(rc={\"figure.figsize\":(15,13)});\n",
    "\n",
    "ax = sns.countplot(y = \"BARRIO\", hue = \"MES\", data = poble_sec);\n",
    "for p in ax.patches:\n",
    "    if p == ax.patches[6]:\n",
    "        p.set_facecolor('red')\n",
    "    elif p == ax.patches[7]:\n",
    "        p.set_facecolor('yellow')\n",
    "    elif p == ax.patches[8]:\n",
    "        p.set_facecolor('blue')\n",
    "    else:\n",
    "        p.set_facecolor('grey')\n",
    "\n",
    "sns.set_style(\"whitegrid\");\n",
    "plt.title(\"Accidentes en el Poble Sec por mes\");\n",
    "plt.ylabel(\"Barrios turísticos\");\n",
    "plt.yticks(rotation = 90);\n",
    "plt.xlabel(\"Cantidad de accidentes\");\n",
    "plt.legend(meses);\n",
    "plt.axvline(x=poble_sec.groupby('MES').count().mean()[0], linewidth=3, color='black', label=\"mean\");\n",
    "plt.savefig(\"../reports/plots/poble_sec_x_mes.png\");"
   ]
  },
  {
   "source": [
    "Julio --> Uno de los meses con mayor cantidad de accidentes registrados.\n",
    "\n",
    "Agosto --> Cantidad por debajo de la media de accidentes.\n",
    "\n",
    "Septiembre --> Cantidad media de accidentes."
   ],
   "cell_type": "markdown",
   "metadata": {}
  },
  {
   "source": [
    "## El Poblenou"
   ],
   "cell_type": "markdown",
   "metadata": {}
  },
  {
   "cell_type": "code",
   "execution_count": null,
   "metadata": {},
   "outputs": [],
   "source": [
    "poblenou = accidentes[accidentes['BARRIO'] == 'el Poblenou']\n",
    "poblenou.replace(meses, inplace= True)\n",
    "poblenou.sort_values(by='MES', inplace= True)\n",
    "sns.set(rc={\"figure.figsize\":(15,13)});\n",
    "\n",
    "ax = sns.countplot(y = \"BARRIO\", hue = \"MES\", data = poblenou);\n",
    "for p in ax.patches:\n",
    "    if p == ax.patches[6]:\n",
    "        p.set_facecolor('red')\n",
    "    elif p == ax.patches[7]:\n",
    "        p.set_facecolor('yellow')\n",
    "    elif p == ax.patches[8]:\n",
    "        p.set_facecolor('blue')\n",
    "    else:\n",
    "        p.set_facecolor('grey')\n",
    "\n",
    "sns.set_style(\"whitegrid\");\n",
    "plt.title(\"Accidentes en el Poblenou por mes\");\n",
    "plt.ylabel(\"Barrios turísticos\");\n",
    "plt.yticks(rotation = 90);\n",
    "plt.xlabel(\"Cantidad de accidentes\");\n",
    "plt.legend(meses);\n",
    "plt.axvline(x=poblenou.groupby('MES').count().mean()[0], linewidth=3, color='black', label=\"mean\");\n",
    "plt.savefig(\"../reports/plots/poblenou_x_mes.png\");"
   ]
  },
  {
   "source": [
    "Julio --> Cantidad máxima de accidentes registrados.\n",
    "\n",
    "Agosto --> Cantidad media/baja de accidentes.\n",
    "\n",
    "Septiembre --> Cantidad media de accidentes."
   ],
   "cell_type": "markdown",
   "metadata": {}
  },
  {
   "source": [
    "## Sant Pere, Santa Caterina i la Ribera"
   ],
   "cell_type": "markdown",
   "metadata": {}
  },
  {
   "cell_type": "code",
   "execution_count": null,
   "metadata": {},
   "outputs": [],
   "source": [
    "ribera = accidentes[accidentes['BARRIO'] == 'Sant Pere, Santa Caterina i la Ribera']\n",
    "ribera.replace(meses, inplace= True)\n",
    "ribera.sort_values(by='MES', inplace= True)\n",
    "sns.set(rc={\"figure.figsize\":(15,13)});\n",
    "\n",
    "ax = sns.countplot(y = \"BARRIO\", hue = \"MES\", data = ribera);\n",
    "for p in ax.patches:\n",
    "    if p == ax.patches[6]:\n",
    "        p.set_facecolor('red')\n",
    "    elif p == ax.patches[7]:\n",
    "        p.set_facecolor('yellow')\n",
    "    elif p == ax.patches[8]:\n",
    "        p.set_facecolor('blue')\n",
    "    else:\n",
    "        p.set_facecolor('grey')\n",
    "\n",
    "sns.set_style(\"whitegrid\");\n",
    "plt.title(\"Accidentes en Sant Pere, Santa Caterina i la Ribera por mes\");\n",
    "plt.ylabel(\"Barrios turísticos\");\n",
    "plt.yticks(rotation = 90);\n",
    "plt.xlabel(\"Cantidad de accidentes\");\n",
    "plt.legend(meses);\n",
    "plt.axvline(x=ribera.groupby('MES').count().mean()[0], linewidth=3, color='black', label=\"mean\");\n",
    "plt.savefig(\"../reports/plots/ribera_x_mes.png\");"
   ]
  },
  {
   "source": [
    "Julio --> Cantidad elevada de acci.\n",
    "\n",
    "Agosto --> Cantidad media de accidentes.\n",
    "\n",
    "Septiembre --> Cantidad media de accidentes."
   ],
   "cell_type": "markdown",
   "metadata": {}
  },
  {
   "source": [
    "## La Sagrada Família"
   ],
   "cell_type": "markdown",
   "metadata": {}
  },
  {
   "cell_type": "code",
   "execution_count": null,
   "metadata": {},
   "outputs": [],
   "source": [
    "sagrada = accidentes[accidentes['BARRIO'] == 'la Sagrada Família']\n",
    "sagrada.replace(meses, inplace= True)\n",
    "sagrada.sort_values(by='MES', inplace= True)\n",
    "sns.set(rc={\"figure.figsize\":(15,13)});\n",
    "\n",
    "ax = sns.countplot(y = \"BARRIO\", hue = \"MES\", data = sagrada);\n",
    "for p in ax.patches:\n",
    "    if p == ax.patches[6]:\n",
    "        p.set_facecolor('red')\n",
    "    elif p == ax.patches[7]:\n",
    "        p.set_facecolor('yellow')\n",
    "    elif p == ax.patches[8]:\n",
    "        p.set_facecolor('blue')\n",
    "    else:\n",
    "        p.set_facecolor('grey')\n",
    "\n",
    "sns.set_style(\"whitegrid\");\n",
    "plt.title(\"Accidentes en la Sagrada Família por mes\");\n",
    "plt.ylabel(\"Barrios turísticos\");\n",
    "plt.yticks(rotation = 90);\n",
    "plt.xlabel(\"Cantidad de accidentes\");\n",
    "plt.legend(meses);\n",
    "plt.axvline(x=sagrada.groupby('MES').count().mean()[0], linewidth=3, color='black', label=\"mean\");\n",
    "plt.savefig(\"../reports/plots/sagrada_x_mes.png\");"
   ]
  },
  {
   "source": [
    "Julio --> Uno de los meses con mayor cantidad de accidentes registrados.\n",
    "\n",
    "Agosto --> Junto con Septiembre, los meses con menos accidentes.\n",
    "\n",
    "Septiembre --> Junto con Agosto, los meses con menos accidentes."
   ],
   "cell_type": "markdown",
   "metadata": {}
  },
  {
   "source": [
    "## La Nova Esquerra de l\\'Eixample"
   ],
   "cell_type": "markdown",
   "metadata": {}
  },
  {
   "cell_type": "code",
   "execution_count": null,
   "metadata": {},
   "outputs": [],
   "source": [
    "nova_esquerra = accidentes[accidentes['BARRIO'] == 'la Nova Esquerra de l\\'Eixample']\n",
    "nova_esquerra.replace(meses, inplace= True)\n",
    "nova_esquerra.sort_values(by='MES', inplace= True)\n",
    "sns.set(rc={\"figure.figsize\":(15,13)});\n",
    "\n",
    "ax = sns.countplot(y = \"BARRIO\", hue = \"MES\", data = nova_esquerra);\n",
    "for p in ax.patches:\n",
    "    if p == ax.patches[6]:\n",
    "        p.set_facecolor('red')\n",
    "    elif p == ax.patches[7]:\n",
    "        p.set_facecolor('yellow')\n",
    "    elif p == ax.patches[8]:\n",
    "        p.set_facecolor('blue')\n",
    "    else:\n",
    "        p.set_facecolor('grey')\n",
    "\n",
    "sns.set_style(\"whitegrid\");\n",
    "plt.title(\"Accidentes en la Nova Esquerra de l\\'Eixample por mes\");\n",
    "plt.ylabel(\"Barrios turísticos\");\n",
    "plt.yticks(rotation = 90);\n",
    "plt.xlabel(\"Cantidad de accidentes\");\n",
    "plt.legend(meses);\n",
    "plt.axvline(x=nova_esquerra.groupby('MES').count().mean()[0], linewidth=3, color='black', label=\"mean\");\n",
    "plt.savefig(\"../reports/plots/nova_esquerra_x_mes.png\");"
   ]
  },
  {
   "source": [
    "Julio --> Cantidad alta de accidentes.\n",
    "\n",
    "Agosto --> Mes con menor número de accidentes.\n",
    "\n",
    "Septiembre --> Cantidad media/baja de accidentes."
   ],
   "cell_type": "markdown",
   "metadata": {}
  },
  {
   "source": [
    "## El Fort Pienc"
   ],
   "cell_type": "markdown",
   "metadata": {}
  },
  {
   "cell_type": "code",
   "execution_count": null,
   "metadata": {},
   "outputs": [],
   "source": [
    "fort_pienc = accidentes[accidentes['BARRIO'] == 'el Fort Pienc']\n",
    "fort_pienc.replace(meses, inplace= True)\n",
    "fort_pienc.sort_values(by='MES', inplace= True)\n",
    "sns.set(rc={\"figure.figsize\":(15,13)});\n",
    "\n",
    "ax = sns.countplot(y = \"BARRIO\", hue = \"MES\", data = fort_pienc);\n",
    "for p in ax.patches:\n",
    "    if p == ax.patches[6]:\n",
    "        p.set_facecolor('red')\n",
    "    elif p == ax.patches[7]:\n",
    "        p.set_facecolor('yellow')\n",
    "    elif p == ax.patches[8]:\n",
    "        p.set_facecolor('blue')\n",
    "    else:\n",
    "        p.set_facecolor('grey')\n",
    "\n",
    "sns.set_style(\"whitegrid\");\n",
    "plt.title(\"Accidentes en el Fort Pienc por mes\");\n",
    "plt.ylabel(\"Barrios turísticos\");\n",
    "plt.yticks(rotation = 90);\n",
    "plt.xlabel(\"Cantidad de accidentes\");\n",
    "plt.legend(meses);\n",
    "plt.axvline(x=fort_pienc.groupby('MES').count().mean()[0], linewidth=3, color='black', label=\"mean\");\n",
    "plt.savefig(\"../reports/plots/fort_pienc_x_mes.png\");"
   ]
  },
  {
   "source": [
    "Julio --> Cantidad alta de accidentes.\n",
    "\n",
    "Agosto --> Mes con menor número de accidentes.\n",
    "\n",
    "Septiembre --> Cantidad media de accidentes."
   ],
   "cell_type": "markdown",
   "metadata": {}
  },
  {
   "source": [
    "## l'Antiga Esquerra de l'Eixample"
   ],
   "cell_type": "markdown",
   "metadata": {}
  },
  {
   "cell_type": "code",
   "execution_count": null,
   "metadata": {},
   "outputs": [],
   "source": [
    "antigua_esquerra = accidentes[accidentes['BARRIO'] == \"l'Antiga Esquerra de l'Eixample\"]\n",
    "antigua_esquerra.replace(meses, inplace= True)\n",
    "antigua_esquerra.sort_values(by='MES', inplace= True)\n",
    "sns.set(rc={\"figure.figsize\":(15,13)});\n",
    "\n",
    "ax = sns.countplot(y = \"BARRIO\", hue = \"MES\", data = antigua_esquerra);\n",
    "for p in ax.patches:\n",
    "    if p == ax.patches[6]:\n",
    "        p.set_facecolor('red')\n",
    "    elif p == ax.patches[7]:\n",
    "        p.set_facecolor('yellow')\n",
    "    elif p == ax.patches[8]:\n",
    "        p.set_facecolor('blue')\n",
    "    else:\n",
    "        p.set_facecolor('grey')\n",
    "\n",
    "sns.set_style(\"whitegrid\");\n",
    "plt.title(\"Accidentes en l'Antiga Esquerra de l'Eixample por mes\");\n",
    "plt.ylabel(\"Barrios turísticos\");\n",
    "plt.yticks(rotation = 90);\n",
    "plt.xlabel(\"Cantidad de accidentes\");\n",
    "plt.legend(meses);\n",
    "plt.axvline(x=antigua_esquerra.groupby('MES').count().mean()[0], linewidth=3, color='black', label=\"mean\");\n",
    "plt.savefig(\"../reports/plots/antigua_esquerra_x_mes.png\");"
   ]
  },
  {
   "source": [
    "Julio --> Cantidad media/alta de accidentes.\n",
    "\n",
    "Agosto --> Mes con menor número de accidentes.\n",
    "\n",
    "Septiembre --> Cantidad media/baja de accidentes."
   ],
   "cell_type": "markdown",
   "metadata": {}
  },
  {
   "source": [
    "## La Dreta de l\\'Eixample"
   ],
   "cell_type": "markdown",
   "metadata": {}
  },
  {
   "cell_type": "code",
   "execution_count": null,
   "metadata": {},
   "outputs": [],
   "source": [
    "dreta = accidentes[accidentes['BARRIO'] == 'la Dreta de l\\'Eixample']\n",
    "dreta.replace(meses, inplace= True)\n",
    "dreta.sort_values(by='MES', inplace= True)\n",
    "sns.set(rc={\"figure.figsize\":(15,13)});\n",
    "\n",
    "ax = sns.countplot(y = \"BARRIO\", hue = \"MES\", data = dreta);\n",
    "for p in ax.patches:\n",
    "    if p == ax.patches[6]:\n",
    "        p.set_facecolor('red')\n",
    "    elif p == ax.patches[7]:\n",
    "        p.set_facecolor('yellow')\n",
    "    elif p == ax.patches[8]:\n",
    "        p.set_facecolor('blue')\n",
    "    else:\n",
    "        p.set_facecolor('grey')\n",
    "\n",
    "sns.set_style(\"whitegrid\");\n",
    "plt.title(\"Accidentes en la Dreta de l\\'Eixample por mes\");\n",
    "plt.ylabel(\"Barrios turísticos\");\n",
    "plt.yticks(rotation = 90);\n",
    "plt.xlabel(\"Cantidad de accidentes\");\n",
    "plt.legend(meses);\n",
    "plt.axvline(x=dreta.groupby('MES').count().mean()[0], linewidth=3, color='black', label=\"mean\");\n",
    "plt.savefig(\"../reports/plots/dreta_x_mes.png\");"
   ]
  },
  {
   "source": [
    "Julio --> Mes con mayor número de accidentes.\n",
    "\n",
    "Agosto --> Mes con menor número de accidentes.\n",
    "\n",
    "Septiembre --> Cantidad baja de accidentes."
   ],
   "cell_type": "markdown",
   "metadata": {}
  },
  {
   "source": [
    "## Barrio Sant Antoni"
   ],
   "cell_type": "markdown",
   "metadata": {}
  },
  {
   "cell_type": "code",
   "execution_count": null,
   "metadata": {},
   "outputs": [],
   "source": [
    "sant_antoni = accidentes[accidentes['BARRIO'] == 'Sant Antoni']\n",
    "sant_antoni.replace(meses, inplace= True)\n",
    "sant_antoni.sort_values(by='MES', inplace= True)\n",
    "sns.set(rc={\"figure.figsize\":(15,13)});\n",
    "\n",
    "ax = sns.countplot(y = \"BARRIO\", hue = \"MES\", data = sant_antoni);\n",
    "for p in ax.patches:\n",
    "    if p == ax.patches[6]:\n",
    "        p.set_facecolor('red')\n",
    "    elif p == ax.patches[7]:\n",
    "        p.set_facecolor('yellow')\n",
    "    elif p == ax.patches[8]:\n",
    "        p.set_facecolor('blue')\n",
    "    else:\n",
    "        p.set_facecolor('grey')\n",
    "\n",
    "sns.set_style(\"whitegrid\");\n",
    "plt.title(\"Accidentes en Sant Antoni por mes\");\n",
    "plt.ylabel(\"Barrios turísticos\");\n",
    "plt.yticks(rotation = 90);\n",
    "plt.xlabel(\"Cantidad de accidentes\");\n",
    "plt.legend(meses);\n",
    "plt.axvline(x=sant_antoni.groupby('MES').count().mean()[0], linewidth=3, color='black', label=\"mean\");\n",
    "plt.savefig(\"../reports/plots/sant_antoni_x_mes.png\");"
   ]
  },
  {
   "source": [
    "Julio --> Cantidad media de accidentes.\n",
    "\n",
    "Agosto --> Cantidad baja de accidentes.\n",
    "\n",
    "Septiembre --> Cantidad media de accidentes."
   ],
   "cell_type": "markdown",
   "metadata": {}
  },
  {
   "source": [
    "## La Vila de Gràcia"
   ],
   "cell_type": "markdown",
   "metadata": {}
  },
  {
   "cell_type": "code",
   "execution_count": null,
   "metadata": {},
   "outputs": [],
   "source": [
    "vila_gracia = accidentes[accidentes['BARRIO'] == 'la Vila de Gràcia']\n",
    "vila_gracia.replace(meses, inplace= True)\n",
    "vila_gracia.sort_values(by='MES', inplace= True)\n",
    "sns.set(rc={\"figure.figsize\":(15,13)});\n",
    "\n",
    "ax = sns.countplot(y = \"BARRIO\", hue = \"MES\", data = vila_gracia);\n",
    "for p in ax.patches:\n",
    "    if p == ax.patches[6]:\n",
    "        p.set_facecolor('red')\n",
    "    elif p == ax.patches[7]:\n",
    "        p.set_facecolor('yellow')\n",
    "    elif p == ax.patches[8]:\n",
    "        p.set_facecolor('blue')\n",
    "    else:\n",
    "        p.set_facecolor('grey')\n",
    "\n",
    "sns.set_style(\"whitegrid\");\n",
    "plt.title(\"Accidentes en la Vila de Gràcia por mes\");\n",
    "plt.ylabel(\"Barrios turísticos\");\n",
    "plt.yticks(rotation = 90);\n",
    "plt.xlabel(\"Cantidad de accidentes\");\n",
    "plt.legend(meses);\n",
    "plt.axvline(x=vila_gracia.groupby('MES').count().mean()[0], linewidth=3, color='black', label=\"mean\");\n",
    "plt.savefig(\"../reports/plots/vila_gracia_x_mes.png\");"
   ]
  },
  {
   "source": [
    "Julio --> Mes con mayor número de accidentes.\n",
    "\n",
    "Agosto --> Mes con menor número de accidentes.\n",
    "\n",
    "Septiembre --> Cantidad media de accidentes."
   ],
   "cell_type": "markdown",
   "metadata": {}
  },
  {
   "source": [
    "Al enfrentar los datos obtenidos con la hipótesis planteada, encontramos un resultado con una resolución ambigua.\n",
    "\n",
    "Esto se debe a que, observando las gráficas, se aprecia que ``Julio`` representa uno de los meses con mayor número de accidentes registrados en los barrios más turísticos, siendo el varios casos el que ocupa el primer lugar. En contraposición con lo anterior, ``Agosto`` representa uno de los meses con menor número de accidentes en los mismos sitios, a excepción del barrio de La Barceloneta, que como se mencionó, cuenta con una de las playas más concurridas.\n",
    "\n",
    "Para el caso de Septiembre, se mantiene generalmente con un número de accidentes intermedio o bajo.\n",
    "\n",
    "La resolución lleva a concluir que la hipótesis planteada debería ser más acotada. Se debe tener en cuenta que la ciudad de Barcelona recibe gran cantidad de turistas durante estos meses de temporada alta, pero el mes predilecto en el que los lugareños elijen hacer vacacionar en otros sitios es Agosto, cuando una gran cantidad de locales y empresas cierran sus puertas. Esto implica una importante disminución de traslados en vehículos particulares, enfrentado a una gran cantidad de turistas que en su mayoría utilizan transportes públicos. Muy probablemente sea éste el motivo que marca una brecha tan grande entre los meses de Julio y Agosto.\n",
    "\n",
    "En la siguiente gráfica se puede ver que para todos los accidentes registrados en la ciudad, Agosto es, con ventaja, el que menor número contabilizó, mientras que Julio se sitúa en el segundo puesto en cantidad."
   ],
   "cell_type": "markdown",
   "metadata": {}
  },
  {
   "cell_type": "code",
   "execution_count": null,
   "metadata": {},
   "outputs": [],
   "source": [
    "plt.figure(figsize=(10,10))\n",
    "sns.countplot(accidentes['MES'], order= accidentes['MES'].value_counts().index)\n",
    "plt.ylabel('Cantidad de accidentes')\n",
    "plt.xlabel('Mes')\n",
    "plt.xticks(rotation = 45);\n",
    "plt.savefig(\"../reports/plots/x_mes.png\");"
   ]
  },
  {
   "source": [
    "Ahondando un poco más en el registro de accidentes, se tiene la posibilidad de evaluar la peligrosidad de los mismos, con la idea de conocer cuántas víctimas, ya sean desde leves hasta fatales, suele haber en cada uno."
   ],
   "cell_type": "markdown",
   "metadata": {}
  },
  {
   "cell_type": "code",
   "execution_count": null,
   "metadata": {},
   "outputs": [],
   "source": [
    "plt.figure(figsize=(20,5))\n",
    "sns.boxenplot(accidentes['NUMERO VICTIMAS'])\n",
    "plt.xticks(np.arange(0, 26+1, 1))\n",
    "increments = 1\n",
    "ax = plt.gca()\n",
    "start, end = ax.get_ylim()\n",
    "ax.yaxis.set_ticks(np.arange(start, end, increments))\n",
    "plt.savefig(\"../reports/plots/victimas_x_accidente.png\")"
   ]
  },
  {
   "source": [
    "La mayoría de los accidentes dejan un saldo de una víctima. Asímismo, se observan sucesos que contabilizan hasta 26 víctimas. Estas situaciones permiten pensar que se trata de siniestros en los que se han implicado vehículos de un gran número de plazas, o bien, que ha acontecido un accidente en cadena.\n",
    "\n",
    "Si se decide evaluar ahora el número de accidentes en función del día de la semana, el resultado será:"
   ],
   "cell_type": "markdown",
   "metadata": {}
  },
  {
   "cell_type": "code",
   "execution_count": null,
   "metadata": {},
   "outputs": [],
   "source": [
    "plt.figure(figsize=(12,5));\n",
    "sns.countplot(accidentes['DIA SEMANA'], order= accidentes['DIA SEMANA'].value_counts().index);\n",
    "plt.ylabel('Cantidad de accidentes');\n",
    "plt.xlabel('Día de la semana');\n",
    "plt.savefig(\"../reports/plots/accidente_x_dia.png\");"
   ]
  },
  {
   "source": [
    "Se obtiene un resultado bastante esperado, donde de lunes a viernes se contabilizan una cantidad bastante pareja de sucesos, mientras que en el fin de semana disminuyen considerablemente, más aun para el día domingo, que supone ser el que menor número de personas tiene desplazándose a sus trabajos.\n",
    "\n",
    "Se tiene ahora la posibilidad de evaluar los siniestros ocurridos para cada día de la semana, teniendo ahora en cuenta en turno en el que se dan."
   ],
   "cell_type": "markdown",
   "metadata": {}
  },
  {
   "cell_type": "code",
   "execution_count": null,
   "metadata": {},
   "outputs": [],
   "source": [
    "plt.figure(figsize=(15,10))\n",
    "sns.countplot(y = accidentes['DIA SEMANA'],hue='TURNO',  data= accidentes, palette= \"dark:salmon_r\")\n",
    "plt.yticks(rotation = 45)\n",
    "plt.title(\"Accidentes por día de la semana en función del turno\")\n",
    "plt.savefig(\"../reports/plots/dias_x_turno.png\")"
   ]
  },
  {
   "source": [
    "Nuevamente se puede observar un resultado medianamente esperado, donde se visualiza que la mayoría de accidentes durante el turno noche se dan los viernes, sábado y domingo, donde la gente suele tener más vida nocturna y una mayor ingesta de alcohol.\n",
    "\n",
    "Indagando un poco más sobre esto, se reproduce una visualización de la distribución de accidentes según la hora para estos tres días."
   ],
   "cell_type": "markdown",
   "metadata": {}
  },
  {
   "cell_type": "code",
   "execution_count": null,
   "metadata": {},
   "outputs": [],
   "source": [
    "accidentes_viernes = accidentes[accidentes['DIA SEMANA'] == 'Viernes']\n",
    "accidentes_sabado = accidentes[accidentes['DIA SEMANA'] == 'Sábado']\n",
    "accidentes_domingo = accidentes[accidentes['DIA SEMANA'] == 'Domingo']\n",
    "plt.figure(figsize=(12,8))\n",
    "sns.kdeplot(accidentes_viernes['HORA'], color = \"r\", label = \"Viernes\")\n",
    "sns.kdeplot(accidentes_sabado['HORA'], color = \"g\", label = \"Sábado\")\n",
    "sns.kdeplot(accidentes_domingo['HORA'], color = \"b\", label = \"Domingo\")\n",
    "plt.xticks(np.arange(0, 24, 1))\n",
    "ax.yaxis.set_ticks(np.arange(start, end, increments))\n",
    "plt.legend()\n",
    "plt.savefig(\"../reports/plots/finde_x_hora.png\")"
   ]
  },
  {
   "source": [
    "A pesar de contar con un mayor número de sucesos durante el turno noche, continúa siendo evidente que los turnos mañana y tarde son los más perjudicados a la hora de contabilizar accidentes.\n",
    "\n",
    "La siguiente podría tratarse de una visualización poco ortodoxa, pero intenta representar una comparación entre los horarios en los que suceden siniestros por cada día de la semana."
   ],
   "cell_type": "markdown",
   "metadata": {}
  },
  {
   "cell_type": "code",
   "execution_count": null,
   "metadata": {},
   "outputs": [],
   "source": [
    "accidentes_lunes = accidentes[accidentes['DIA SEMANA'] == 'Lunes']\n",
    "accidentes_martes = accidentes[accidentes['DIA SEMANA'] == 'Martes']\n",
    "accidentes_miercoles = accidentes[accidentes['DIA SEMANA'] == 'Miércoles']\n",
    "accidentes_jueves = accidentes[accidentes['DIA SEMANA'] == 'Jueves']\n",
    "accidentes_viernes = accidentes[accidentes['DIA SEMANA'] == 'Viernes']\n",
    "accidentes_sabado = accidentes[accidentes['DIA SEMANA'] == 'Sábado']\n",
    "accidentes_domingo = accidentes[accidentes['DIA SEMANA'] == 'Domingo']\n",
    "plt.figure(figsize=(12,8));\n",
    "sns.kdeplot(accidentes_lunes['HORA'], color = \"y\", label = \"Lunes\");\n",
    "sns.kdeplot(accidentes_martes['HORA'], color = \"y\", label = \"Martes\");\n",
    "sns.kdeplot(accidentes_miercoles['HORA'], color = \"y\", label = \"Miércoles\");\n",
    "sns.kdeplot(accidentes_jueves['HORA'], color = \"y\", label = \"Jueves\");\n",
    "sns.kdeplot(accidentes_viernes['HORA'], color = \"r\", label = \"Viernes\");\n",
    "sns.kdeplot(accidentes_sabado['HORA'], color = \"g\", label = \"Sábado\");\n",
    "sns.kdeplot(accidentes_domingo['HORA'], color = \"b\", label = \"Domingo\");\n",
    "plt.xticks(np.arange(0, 24, 1));\n",
    "ax.yaxis.set_ticks(np.arange(start, end, increments));\n",
    "plt.legend();\n",
    "plt.savefig(\"../reports/plots/finde_vs_semana_x_hora.png\");"
   ]
  },
  {
   "source": [],
   "cell_type": "markdown",
   "metadata": {}
  },
  {
   "source": [
    "Aquí se puede ver lo ajustadas que son las líneas correspondientes a los horarios de accidentes para los días de lunes a jueves en todos los turnos. Asimismo, para el día viernes, el turno mañana se ajusta también bastante al resto de los días laborables. Se puede ver también que en el caso del viernes, hay un pico más elevado a las 14 hs., y no presenta el pico que se verifica de lunes a jueves a las 18 hs. Esto puede deberse, seguramente, a la cantidad de personas que realizan horarios intensivos los viernes, partiendo de su trabajo más tempranamente.\n",
    "\n",
    "Por último, en esta gráfica se visualiza mucho mejor la diferencia que hay entre los accidentes en las noches más movidas de la ciudad, respecto de los que se dan en víspera de día laborable."
   ],
   "cell_type": "markdown",
   "metadata": {}
  },
  {
   "cell_type": "code",
   "execution_count": null,
   "metadata": {},
   "outputs": [],
   "source": [
    "plt.figure(figsize=(10,5));\n",
    "sns.histplot(accidentes['HORA'], kde = True);\n",
    "plt.xticks(np.arange(0, 24, 1));\n",
    "plt.ylabel('Cantidad de accidentes')\n",
    "plt.xlabel('Hora del día')\n",
    "plt.title('Accidentes en función de la hora del día')\n",
    "plt.savefig(\"../reports/plots/x_hora_general.png\")"
   ]
  },
  {
   "source": [
    "En la gráfica anterior podemos ver el histograma siniestro viales respecto de la hora del día, y su distribución.\n",
    "\n",
    "En la siguiente, se puede apreciar cómo ha ido variando el número de accidentes en función del año."
   ],
   "cell_type": "markdown",
   "metadata": {}
  },
  {
   "cell_type": "code",
   "execution_count": null,
   "metadata": {},
   "outputs": [],
   "source": [
    "accidentes_x_ano = accidentes.groupby('ANO').count()\n",
    "plt.figure(figsize=(15,10))\n",
    "sns.lineplot(data = accidentes_x_ano,\n",
    "            x = 'ANO',\n",
    "            y = 'NUMERO EXPEDIENTE',\n",
    "            linewidth = 3)\n",
    "plt.xlabel('Año')\n",
    "plt.xticks(np.arange(2010, 2021, 1))\n",
    "plt.title('Cantidad de accidentes por año')\n",
    "plt.xlim(2010)\n",
    "plt.ylabel('Cantidad de accidentes')\n",
    "plt.savefig(\"../reports/plots/accidentes_x_ano.png\")"
   ]
  },
  {
   "source": [
    "Se puede ver cómo los accidentes tienden a aumentar con el correr de los años. Finalmente, se ve una gran depresión en el número de registros para el año 2020. Sin lugar a dudas, las medidas que han sido tomadas para controlar la pandemia por Covid-19 tuvieron una influencia inequívoca sobre los siniestros viales.\n",
    "\n",
    "Por último, haciendo un heatmap para cada uno de nuestros datos, se observa que la cantidad de lesionados leves cuenta con una correlación áltamente positiva respecto del número de víctimas, a diferencia de los gravemente heridos y fallecidos. Esto podría deberse a la cultura que se ha instaurado en la gente de la ciudad a la hora de protegerse frente a accidentes viales, ya sea mediante el uso de cinturones de seguridad, cascos y otras protecciones para motoristas, y respeto por los límites de velocidad."
   ],
   "cell_type": "markdown",
   "metadata": {}
  },
  {
   "source": [
    "plt.subplots(figsize=(13, 10))\n",
    "sns.heatmap(accidentes.corr(),\n",
    "           vmin = -1,\n",
    "           vmax = 1,\n",
    "            annot = True,\n",
    "           linewidths = 3)\n",
    "plt.savefig(\"../reports/plots/heatmap.png\")"
   ],
   "cell_type": "code",
   "metadata": {},
   "execution_count": null,
   "outputs": []
  },
  {
   "source": [],
   "cell_type": "markdown",
   "metadata": {}
  },
  {
   "source": [
    "---\n",
    "\n",
    "### Tendencias de columnas restantes\n",
    "\n",
    "## Número de víctimas por accidente"
   ],
   "cell_type": "markdown",
   "metadata": {}
  },
  {
   "cell_type": "code",
   "execution_count": null,
   "metadata": {},
   "outputs": [],
   "source": [
    "plt.figure(figsize=(7,5))\n",
    "g = sns.countplot(accidentes['NUMERO VICTIMAS'])\n",
    "g.set(yscale=\"log\")\n",
    "plt.ylabel('Cantidad de accidentes')\n",
    "plt.xlabel('Número de víctimas por accidente')\n",
    "plt.title('Número de víctimas por accidente')\n",
    "plt.savefig(\"../reports/plots/victimas_x_accidente.png\");"
   ]
  },
  {
   "source": [
    "## Número de víctimas leves por accidente"
   ],
   "cell_type": "markdown",
   "metadata": {}
  },
  {
   "cell_type": "code",
   "execution_count": null,
   "metadata": {},
   "outputs": [],
   "source": [
    "plt.figure(figsize=(7,5))\n",
    "g = sns.countplot(accidentes['VICTIMAS LEVES'])\n",
    "g.set(yscale=\"log\")\n",
    "plt.ylabel('Cantidad de accidentes')\n",
    "plt.xlabel('Número de víctimas leves')\n",
    "plt.title('Número de víctimas leves por accidente')\n",
    "plt.savefig(\"../reports/plots/victimas_leves_x_accidente.png\");"
   ]
  },
  {
   "source": [
    "## Número de víctimas graves por accidente"
   ],
   "cell_type": "markdown",
   "metadata": {}
  },
  {
   "cell_type": "code",
   "execution_count": null,
   "metadata": {},
   "outputs": [],
   "source": [
    "plt.figure(figsize=(7,5))\n",
    "g = sns.countplot(accidentes['VICTIMAS GRAVES'])\n",
    "g.set(yscale=\"log\")\n",
    "plt.ylabel('Cantidad de accidentes')\n",
    "plt.xlabel('Número de víctimas graves')\n",
    "plt.title('Número de víctimas graves por accidente')\n",
    "plt.savefig(\"../reports/plots/victimas_graves_x_accidente.png\");"
   ]
  },
  {
   "source": [
    "## Número de víctimas fatales por accidente"
   ],
   "cell_type": "markdown",
   "metadata": {}
  },
  {
   "cell_type": "code",
   "execution_count": null,
   "metadata": {},
   "outputs": [],
   "source": [
    "plt.figure(figsize=(7,5))\n",
    "g = sns.countplot(accidentes['VICTIMAS FALLECIDAS'])\n",
    "g.set(yscale=\"log\")\n",
    "plt.ylabel('Cantidad de accidentes')\n",
    "plt.xlabel('Número de víctimas fatales')\n",
    "plt.title('Número de víctimas fatales por accidente')\n",
    "plt.savefig(\"../reports/plots/victimas_fatales_x_accidente.png\");"
   ]
  }
 ]
}